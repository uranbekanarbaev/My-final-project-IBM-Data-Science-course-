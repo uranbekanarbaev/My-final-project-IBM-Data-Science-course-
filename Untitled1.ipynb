{
 "cells": [
  {
   "cell_type": "markdown",
   "id": "be988c06-1476-4e55-9d53-4c004836d146",
   "metadata": {},
   "source": [
    "# ex2\n",
    "Title: My final project"
   ]
  },
  {
   "cell_type": "markdown",
   "id": "2f1c0fe9-03af-4c45-93a3-cd0aadc49f8c",
   "metadata": {},
   "source": [
    "This project where I present my abilities and knowdlege obtained during the completion of course \"Basics of Python. Data Science\" My name is Uranbek"
   ]
  },
  {
   "cell_type": "markdown",
   "id": "eaf43e71-d607-48b8-b6cb-9fb37e9bb3b6",
   "metadata": {},
   "source": [
    "Python only"
   ]
  },
  {
   "cell_type": "markdown",
   "id": "cd4c396c-85d3-4249-96bc-95afa8597425",
   "metadata": {},
   "source": [
    "random, matplotlib, math, pandas, numpy"
   ]
  },
  {
   "cell_type": "markdown",
   "id": "ad5ee3d1-2f58-42d6-ba37-1463ce7a55ea",
   "metadata": {},
   "source": [
    "2+2 = 4"
   ]
  },
  {
   "cell_type": "code",
   "execution_count": 1,
   "id": "e7bce2a6-1a77-4ca8-ad26-60b36b6558e7",
   "metadata": {},
   "outputs": [
    {
     "name": "stdout",
     "output_type": "stream",
     "text": [
      "11\n"
     ]
    }
   ],
   "source": [
    "num1 = 4\n",
    "num2 = 7\n",
    "sum = num1+num2\n",
    "print(sum)"
   ]
  },
  {
   "cell_type": "code",
   "execution_count": 3,
   "id": "2901515e-4200-47a5-956d-dd5f922017a7",
   "metadata": {},
   "outputs": [
    {
     "name": "stdout",
     "output_type": "stream",
     "text": [
      "6.0\n"
     ]
    }
   ],
   "source": [
    "minutes = 360\n",
    "hours = minutes/60\n",
    "print(hours)"
   ]
  },
  {
   "cell_type": "markdown",
   "id": "3e58e0fa-0977-4c73-9828-d744d4efdc94",
   "metadata": {},
   "source": []
  }
 ],
 "metadata": {
  "kernelspec": {
   "display_name": "Python 3 (ipykernel)",
   "language": "python",
   "name": "python3"
  },
  "language_info": {
   "codemirror_mode": {
    "name": "ipython",
    "version": 3
   },
   "file_extension": ".py",
   "mimetype": "text/x-python",
   "name": "python",
   "nbconvert_exporter": "python",
   "pygments_lexer": "ipython3",
   "version": "3.11.7"
  }
 },
 "nbformat": 4,
 "nbformat_minor": 5
}
